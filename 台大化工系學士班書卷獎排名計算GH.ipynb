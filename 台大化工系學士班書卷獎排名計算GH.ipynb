{
 "cells": [
  {
   "attachments": {
    "990db0c1-66e1-4c7f-8e59-4b59e3081563.png": {
     "image/png": "[encoded data removed]"
    },
    "a1d7eb4f-739d-403e-ba98-5c1011010679.png": {
     "image/png": "[encoded data removed]"
    },
    "db584999-b27c-46bc-839d-778a1ab3a205.png": {
     "image/png": "[encoded data removed]"
    }
   },
   "cell_type": "markdown",
   "metadata": {},
   "source": [
    "# 使用教學  \n",
    "> <font size=4> 1. 請先和系辦曾小姐確認排名標準、必修課目或化工系必修的核心課目是否更動過</font>    \n",
    "> <font size=4> (若當初曾小姐找你做這個的時候沒有特別說明的話，通常就是沒有)</font>    \n",
    "> <font size=4> 2. 將曾小姐給的大二、大三與大四成績另存為新的xlsx檔</font>    \n",
    "> <font size=4> 3. 點擊左上方的「![image.png](attachment:db584999-b27c-46bc-839d-778a1ab3a205.png)」圖示並按下左上方的「![image.png](attachment:a1d7eb4f-739d-403e-ba98-5c1011010679.png)」按鍵將這些新的xlsx檔上傳</font>    \n",
    "> <font size=4> 4. 到\"設定變數\"下的程式碼當中尋找變數all_paths，在此tuple當中依序將這些xlsx檔的名字輸入，請務必依照大二、大三與大四的順序排列</font>    \n",
    "> <font size=4> 5. 到\"設定變數\"下的程式碼當中尋找變數studentgrades，分別設定需要計算的年級 (ps. 若想更改輸出檔的名字, 可將其設定至savepath變數中)</font>    \n",
    "> <font size=4> 6. 按下上方的「![image.png](attachment:990db0c1-66e1-4c7f-8e59-4b59e3081563.png)」按鍵執行以下3組程式碼</font>    \n",
    "> <font size=4> 7. 等程式跑完以後，在左方的檔案區中找到新產生出的xlsx檔案後，點右鍵下載至電腦</font>    \n",
    "> <font size=4> 8. 挑幾位同學的成績手動計算平均，檢查是否有問題</font>    \n",
    "> <font size=4> 9. 將結果寄給系辦曾小姐</font>  \n",
    "> \n",
    "> <font size=3> 若有任何問題請聯繫作者施彥任(F08524004@ntu.edu.tw)</font>    \n",
    "> <font size=3> 最後編輯時間：2023/7/12</font>  "
   ]
  },
  {
   "cell_type": "markdown",
   "metadata": {},
   "source": [
    "# 載入模組"
   ]
  },
  {
   "cell_type": "code",
   "execution_count": 1,
   "metadata": {},
   "outputs": [],
   "source": [
    "from ntuche_pa_rank import arrangement"
   ]
  },
  {
   "cell_type": "markdown",
   "metadata": {},
   "source": [
    "# 設定變數"
   ]
  },
  {
   "cell_type": "code",
   "execution_count": 2,
   "metadata": {
    "scrolled": true,
    "tags": []
   },
   "outputs": [],
   "source": [
    "\"\"\"\n",
    "\n",
    "設定化工系核心課程與化工系課號前三碼\n",
    "\n",
    "----------\n",
    "Parameters\n",
    "----------\n",
    "core_course2 : list, str\n",
    "    化工系所有必修課的核心課程科目(大二與大三同分參酌二的科目)\n",
    "che_course_number: list, str\n",
    "    化工系開設課程之課號前三碼\n",
    "\n",
    "\"\"\"\n",
    "core_course2 = ['工程數學一','工程數學二','物理化學一','物理化學二','化工熱力學','化學反應工程','單元操作一','單元操作二'\\\n",
    "                ,'單元操作三','化學工業程序']\n",
    "che_course_number = ['504', '524']\n",
    "\n",
    "\"\"\"\n",
    "\n",
    "設定路徑名稱\n",
    "\n",
    "----------\n",
    "Parameters\n",
    "----------\n",
    "path_set: str\n",
    "    化工系所有必修課科目的路徑(set檔)\n",
    "all_paths : tuple, str\n",
    "    大二、大三和大四學生成績路徑 \n",
    "savepath: str\n",
    "    排名結果的檔案儲存路徑\n",
    "\"\"\"\n",
    "path_set = 'set_20230323.xlsx'\n",
    "all_paths = ('111_2_2.xlsx', '111_2_3.xlsx', '111_2_4.xlsx')\n",
    "savepath = '111_2_Rankeddata.xlsx'\n",
    "\n",
    "\"\"\"\n",
    "\n",
    "設定需要排名的年級\n",
    "\n",
    "----------\n",
    "Parameters\n",
    "----------\n",
    "studentgrades: list, str\n",
    "    需要排名的年級(eg. 如果要算大二或大三就設定為[2, 3])\n",
    "sheet_names: list, str\n",
    "    設定各個年級的工作表名稱\n",
    "df_rankdata: pd.DataFrame\n",
    "    包含所有學生所有平均分數資料的排名總表\n",
    "studentrank: object of class \"arrangement\"\n",
    "    執行所有計算的物件\n",
    "\"\"\"\n",
    "studentgrades = [2, 3, 4]\n",
    "sheetnames = ['大二', '大三', '大四']\n"
   ]
  },
  {
   "cell_type": "markdown",
   "metadata": {},
   "source": [
    "# 執行計算並儲存為excel檔"
   ]
  },
  {
   "cell_type": "code",
   "execution_count": 3,
   "metadata": {
    "scrolled": true,
    "tags": []
   },
   "outputs": [],
   "source": [
    "for grade, sheetname in zip(studentgrades, sheetnames):\n",
    "    studentrank = arrangement(grade, path_set, all_paths[grade-2], core_course2, che_course_number)\n",
    "    studentrank.save_rankdata(savepath, sheetname)"
   ]
  }
 ],
 "metadata": {
  "kernelspec": {
   "display_name": "Python 3 (ipykernel)",
   "language": "python",
   "name": "python3"
  },
  "language_info": {
   "codemirror_mode": {
    "name": "ipython",
    "version": 3
   },
   "file_extension": ".py",
   "mimetype": "text/x-python",
   "name": "python",
   "nbconvert_exporter": "python",
   "pygments_lexer": "ipython3",
   "version": "3.10.2"
  }
 },
 "nbformat": 4,
 "nbformat_minor": 4
}
