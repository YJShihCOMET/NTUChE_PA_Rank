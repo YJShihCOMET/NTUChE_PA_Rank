{
 "cells": [
  {
   "cell_type": "markdown",
   "metadata": {},
   "source": [
    "# Read me  \n",
    "> <font size=5>此程式碼是為了計算台大化工系大二、大三與大四生的書卷獎排名而用</font> \n",
    ">   \n",
    "> <font size=5> 依照系上的規定，書卷獎排名標準如下(程式碼自動判斷)：</font>   \n",
    ">> * <font size=4> 大二與大三：依照化工系必修科目的平均GPA(取到小數點下第二位)來排名次，若同分則看所有科目總平均(同分參酌一)，若所有科目總平均同分則看化工系必修課的核心科目總平均(同分參酌二)</font>   \n",
    ">> * <font size=4> 大四：學生需修習化工系開設科目2門課以上，依照所有科目總平均GPA來排名次，若同分則看本系開設科目之平均(同分參酌一)，若化工系開設科目之平均同分則看總學分數(同分參酌二)</font>   \n",
    ">> * <font size=4> 註: 2023/3/23以後大一的必修課加入計算機程式，set檔請用2023/03/23的版本(set_20230323.xlsx)</font>   \n",
    ">   \n",
    "> <font size=5> 依照學校的規定，受獎學生的基本資格如下(曾小姐會自行判斷)：</font>  \n",
    ">> <font size=4> 1. 所有科目的總平均GPA達到3.38以上</font>   \n",
    ">> <font size=4> 2. 名次前三分之一</font>  \n",
    ">> <font size=4> 3. 修課學分15學分以上</font>  \n",
    ">     \n",
    "> <font size=3> 作者：施彥任 (F08524004@ntu.edu.tw)</font>  \n",
    "> <font size=3> 最後編輯時間：2023/3/23</font>  "
   ]
  },
  {
   "cell_type": "markdown",
   "metadata": {},
   "source": [
    "# 使用教學  \n",
    "> <font size=4> 1. 請先和系辦曾小姐確認以上排名標準、必修課目或化工系必修的核心課目是否更動過</font>    \n",
    "> <font size=4> (若當初曾小姐找你做這個的時候沒有特別說明的話，通常就是沒有)</font>    \n",
    "> <font size=4> 2. 將曾小姐給的大二、大三與大四成績另存為新的xlsx檔</font>    \n",
    "> <font size=4> 3. 將set檔和這些新的xlsx檔放到與此程式碼相同的路徑下</font>    \n",
    "> <font size=4> 4. 到\"設定變數\"下的程式碼當中尋找變數path_set與all_paths，並設定為正確的路徑名，變數all_paths請務必依照大二、大三與大四的順序設定，若不用計算大四學生的成績則可不必更動大四的路徑</font>    \n",
    "> <font size=4> 5. 到\"設定變數\"下的程式碼當中尋找變數savepath與studentgrades，分別設定輸出檔案的路徑名以及需要計算的年級</font>    \n",
    "> <font size=4> 6. 執行以下3組程式碼</font>    \n",
    "> <font size=4> 7. 等程式跑完以後，到指定的路徑查收excel檔，並開啟該檔案檢查是否有問題</font>    \n",
    "> <font size=4> 8. 將結果寄給系辦曾小姐</font>  \n",
    "> \n",
    "> <font size=3> 若有任何問題請聯繫作者施彥任(F08524004@ntu.edu.tw)</font>    \n",
    "> <font size=3> 最後編輯時間：2023/3/23</font>  "
   ]
  },
  {
   "cell_type": "markdown",
   "metadata": {
    "tags": []
   },
   "source": [
    "# 編寫環境  \n",
    "\n",
    "> | <font size=4> 語言/套件 </font> | <font size=4> 版本 </font> ||\n",
    "| :--------: | :--------: | :--------: |\n",
    "| <font size=4> Python </font>  | <font size=4> 3.10.2 </font>  |\n",
    "| <font size=4> JupyterLab </font>  | <font size=4> 3.2.9 </font>  |\n",
    "| <font size=4> Numpy </font>  | <font size=4> 1.22.2 </font>  |\n",
    "| <font size=4> Pandas </font>  | <font size=4> 1.4.0 </font>  |\n",
    "| <font size=4> Openpyxl </font>  | <font size=4> 3.0.9 </font>  |\n",
    "> <font size=3> 最後編輯時間：2023/3/23</font> "
   ]
  },
  {
   "cell_type": "markdown",
   "metadata": {},
   "source": [
    "# 載入模組"
   ]
  },
  {
   "cell_type": "code",
   "execution_count": 1,
   "metadata": {},
   "outputs": [],
   "source": [
    "from ntuche_pa_rank import arrangement"
   ]
  },
  {
   "cell_type": "markdown",
   "metadata": {},
   "source": [
    "# 設定變數"
   ]
  },
  {
   "cell_type": "code",
   "execution_count": 2,
   "metadata": {
    "scrolled": true,
    "tags": []
   },
   "outputs": [],
   "source": [
    "\"\"\"\n",
    "\n",
    "設定化工系核心課程與化工系課號前三碼\n",
    "\n",
    "----------\n",
    "Parameters\n",
    "----------\n",
    "core_course2 : list, str\n",
    "    化工系所有必修課的核心課程科目(大二與大三同分參酌二的科目)\n",
    "che_course_number: list, str\n",
    "    化工系開設課程之課號前三碼\n",
    "\n",
    "\"\"\"\n",
    "core_course2 = ['工程數學一','工程數學二','物理化學一','物理化學二','化工熱力學','化學反應工程','單元操作一','單元操作二'\\\n",
    "                ,'單元操作三','化學工業程序']\n",
    "che_course_number = ['504', '524']\n",
    "\n",
    "\"\"\"\n",
    "\n",
    "設定路徑名稱\n",
    "\n",
    "----------\n",
    "Parameters\n",
    "----------\n",
    "path_set: str\n",
    "    化工系所有必修課科目的路徑(set檔)\n",
    "all_paths : tuple, str\n",
    "    大二、大三和大四學生成績路徑 \n",
    "savepath: str\n",
    "    排名結果的檔案儲存路徑\n",
    "\"\"\"\n",
    "path_set = '排名計算資料\\set_20230323.xlsx'\n",
    "all_paths = ('排名計算資料\\\\111_2_2.xlsx', '排名計算資料\\\\111_2_3.xlsx', '排名計算資料\\\\111_2_4.xlsx')\n",
    "savepath = '排名計算資料\\\\111_2_Rankeddata2.xlsx'\n",
    "\n",
    "\"\"\"\n",
    "\n",
    "設定需要排名的年級\n",
    "\n",
    "----------\n",
    "Parameters\n",
    "----------\n",
    "studentgrades: list, str\n",
    "    需要排名的年級(eg. 如果要算大二或大三就設定為[2, 3])\n",
    "sheet_names: list, str\n",
    "    設定各個年級的工作表名稱\n",
    "df_rankdata: pd.DataFrame\n",
    "    包含所有學生所有平均分數資料的排名總表\n",
    "studentrank: object of class \"arrangement\"\n",
    "    執行所有計算的物件\n",
    "\"\"\"\n",
    "studentgrades = [2, 3, 4]\n",
    "sheetnames = ['大二', '大三', '大四']\n"
   ]
  },
  {
   "cell_type": "markdown",
   "metadata": {},
   "source": [
    "# 執行計算並儲存為excel檔"
   ]
  },
  {
   "cell_type": "code",
   "execution_count": 3,
   "metadata": {
    "scrolled": true,
    "tags": []
   },
   "outputs": [],
   "source": [
    "for grade, sheetname in zip(studentgrades, sheetnames):\n",
    "    studentrank = arrangement(grade, path_set, all_paths[grade-2], core_course2, che_course_number)\n",
    "    studentrank.save_rankdata(savepath, sheetname)"
   ]
  },
  {
   "cell_type": "markdown",
   "metadata": {},
   "source": [
    "## test"
   ]
  },
  {
   "cell_type": "code",
   "execution_count": 43,
   "metadata": {},
   "outputs": [],
   "source": [
    "# secondyear = arrangement(4)\n",
    "# df_data = secondyear.df_rankdata\n",
    "# from openpyxl.utils.dataframe import dataframe_to_rows\n",
    "# rows = dataframe_to_rows(df_data, index=False)\n",
    "# wb = openpyxl.Workbook()\n",
    "# dest_filename = '排名計算資料\\\\empty_book2.xlsx'\n",
    "# ws1 = wb.active\n",
    "# ws1.title = \"range names\"\n",
    "\n",
    "# for r_idx, row in enumerate(rows, 1):\n",
    "#     for c_idx, value in enumerate(row, 1):\n",
    "#          ws1.cell(row=r_idx, column=c_idx, value=value)\n",
    "            \n",
    "# wb.save(filename = dest_filename)"
   ]
  },
  {
   "cell_type": "code",
   "execution_count": 44,
   "metadata": {},
   "outputs": [],
   "source": [
    "# secondyear = arrangement(3)\n",
    "# df_data = secondyear.df_rankdata\n",
    "# rows = dataframe_to_rows(df_data, index=False)\n",
    "# wb = openpyxl.load_workbook('排名計算資料\\\\empty_book2.xlsx')\n",
    "# ws2 = wb.create_sheet(title=\"Pi\")\n",
    "\n",
    "# for r_idx, row in enumerate(rows, 1):\n",
    "#     for c_idx, value in enumerate(row, 1):\n",
    "#          ws2.cell(row=r_idx, column=c_idx, value=value)\n",
    "# wb.save(filename = dest_filename)"
   ]
  }
 ],
 "metadata": {
  "kernelspec": {
   "display_name": "Python 3 (ipykernel)",
   "language": "python",
   "name": "python3"
  },
  "language_info": {
   "codemirror_mode": {
    "name": "ipython",
    "version": 3
   },
   "file_extension": ".py",
   "mimetype": "text/x-python",
   "name": "python",
   "nbconvert_exporter": "python",
   "pygments_lexer": "ipython3",
   "version": "3.10.2"
  }
 },
 "nbformat": 4,
 "nbformat_minor": 4
}
